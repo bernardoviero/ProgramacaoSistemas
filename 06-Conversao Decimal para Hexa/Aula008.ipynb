{
  "nbformat": 4,
  "nbformat_minor": 0,
  "metadata": {
    "colab": {
      "name": "Aula008.ipynb",
      "provenance": [],
      "collapsed_sections": []
    },
    "kernelspec": {
      "name": "python3",
      "display_name": "Python 3"
    }
  },
  "cells": [
    {
      "cell_type": "code",
      "metadata": {
        "id": "MbdwY4CrM8KI"
      },
      "source": [
        "hexa= [0,1,2,3,4,5,6,7,8,9,\"A\",\"B\",\"C\",\"D\",\"E\",\"F\"]\n",
        "numeroDecimal = int(input(\"Digite um núemro inteiro: \"))\n",
        "\n",
        "convertido = []\n",
        "\n",
        "while numeroDecimal > 0:\n",
        "    convertido.append(hexa[(numeroDecimal% 16)])\n",
        "    numeroDecimal = numeroDecimal // 16\n",
        "    \n",
        "for i in range(len(convertido)-1,-1,-1):\n",
        "    print(convertido[i],end=\"\")"
      ],
      "execution_count": null,
      "outputs": []
    }
  ]
}